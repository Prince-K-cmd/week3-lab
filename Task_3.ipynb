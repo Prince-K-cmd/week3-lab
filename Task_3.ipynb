{
 "cells": [
  {
   "cell_type": "markdown",
   "metadata": {},
   "source": [
    "## SQL Script for Row-Level Locking"
   ]
  },
  {
   "cell_type": "markdown",
   "metadata": {},
   "source": [
    "### Transaction 1: Alex's Order"
   ]
  },
  {
   "cell_type": "code",
   "execution_count": null,
   "metadata": {
    "vscode": {
     "languageId": "sql"
    }
   },
   "outputs": [],
   "source": [
    "-- Transaction 1: Alex’s order (Decreases stock by 5 units)\n",
    "BEGIN;  -- Start the transaction for Alex\n",
    "\n",
    "-- Lock the row for product_id = 101 to prevent other transactions from modifying it\n",
    "SELECT stock_quantity\n",
    "FROM Products\n",
    "WHERE product_id = 101\n",
    "FOR UPDATE;  -- Row-level lock\n",
    "\n",
    "-- Decrease stock by 5 units\n",
    "UPDATE Products\n",
    "SET stock_quantity = stock_quantity - 5\n",
    "WHERE product_id = 101;\n",
    "\n",
    "-- Commit the transaction, releasing the lock\n",
    "COMMIT;  -- Transaction 1 is complete and lock is released\n"
   ]
  },
  {
   "cell_type": "markdown",
   "metadata": {},
   "source": [
    "### Transaction 2: Taylor's Order"
   ]
  },
  {
   "cell_type": "code",
   "execution_count": null,
   "metadata": {
    "vscode": {
     "languageId": "sql"
    }
   },
   "outputs": [],
   "source": [
    "-- Transaction 2: Taylor’s order (Decreases stock by 5 units)\n",
    "BEGIN;  -- Start the transaction for Taylor\n",
    "\n",
    "-- Lock the row for product_id = 101 to prevent other transactions from modifying it\n",
    "SELECT stock_quantity\n",
    "FROM Products\n",
    "WHERE product_id = 101\n",
    "FOR UPDATE;  -- This will block until Transaction 1 completes\n",
    "\n",
    "-- Check the remaining stock after Transaction 1 has committed\n",
    "-- If there are enough units left, decrease the stock\n",
    "UPDATE Products\n",
    "SET stock_quantity = stock_quantity - 5\n",
    "WHERE product_id = 101;\n",
    "\n",
    "-- Commit the transaction, releasing the lock\n",
    "COMMIT;  -- Transaction 2 is complete and lock is released\n"
   ]
  }
 ],
 "metadata": {
  "language_info": {
   "name": "python"
  }
 },
 "nbformat": 4,
 "nbformat_minor": 2
}
