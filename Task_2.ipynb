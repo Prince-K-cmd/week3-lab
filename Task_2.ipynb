{
 "cells": [
  {
   "cell_type": "markdown",
   "metadata": {},
   "source": [
    "### Draft Working SQL code for ACID properties"
   ]
  },
  {
   "cell_type": "code",
   "execution_count": null,
   "metadata": {
    "vscode": {
     "languageId": "sql"
    }
   },
   "outputs": [],
   "source": [
    "BEGIN TRANSACTION;\n",
    "\n",
    "-- Step 1: Insert a new record in the Orders table\n",
    "INSERT INTO Orders (\n",
    "    CustomerID,\n",
    "    OrderDate,\n",
    "    TotalAmount\n",
    ")\n",
    "VALUES (\n",
    "    @CustomerID,\n",
    "    GETDATE(),\n",
    "    @TotalAmount\n",
    ");\n",
    "\n",
    "-- Step 2: Add each item from the order into the OrderDetails table\n",
    "INSERT INTO OrderDetails (\n",
    "    OrderID,\n",
    "    ProductID,\n",
    "    Quantity\n",
    ")\n",
    "SELECT \n",
    "    SCOPE_IDENTITY(), -- Get the ID of the newly inserted order\n",
    "    p.ProductID,\n",
    "    oi.Quantity\n",
    "FROM \n",
    "    ShoppingCartItems oi\n",
    "JOIN \n",
    "    Products p ON oi.ProductID = p.ProductID;\n",
    "\n",
    "-- Step 3: Decrease the quantity in stock for each item in the Products table\n",
    "UPDATE Products\n",
    "SET Quantity = Quantity - oi.Quantity\n",
    "FROM \n",
    "    ShoppingCartItems oi\n",
    "WHERE \n",
    "    oi.ProductID = Products.ProductID;\n",
    "\n",
    "-- Commit the transaction if all steps succeed\n",
    "IF @@ERROR = 0\n",
    "BEGIN\n",
    "    COMMIT TRANSACTION;\n",
    "END\n",
    "ELSE\n",
    "BEGIN\n",
    "    ROLLBACK TRANSACTION;\n",
    "END;\n",
    "\n",
    "-- Return the OrderID as confirmation\n",
    "SELECT SCOPE_IDENTITY() AS OrderID;"
   ]
  },
  {
   "cell_type": "markdown",
   "metadata": {},
   "source": [
    "### OR"
   ]
  },
  {
   "cell_type": "code",
   "execution_count": null,
   "metadata": {
    "vscode": {
     "languageId": "sql"
    }
   },
   "outputs": [],
   "source": [
    "BEGIN TRANSACTION;\n",
    "\n",
    "-- Step 1: Insert the new order into the Orders table\n",
    "INSERT INTO Orders (customer_id, order_date, total)\n",
    "VALUES (@customer_id, NOW(), @order_total);\n",
    "\n",
    "-- Get the newly generated order_id\n",
    "SET @order_id = LAST_INSERT_ID();\n",
    "\n",
    "-- Step 2: Add items into the OrderDetails table and update the Products table\n",
    "-- This loop assumes that @order_items is an array or a set of order items passed to the transaction\n",
    "FOR EACH @item IN @order_items DO\n",
    "    -- Insert the order details (items ordered)\n",
    "    INSERT INTO OrderDetails (order_id, product_id, quantity, unit_price)\n",
    "    VALUES (@order_id, @item.product_id, @item.quantity, @item.unit_price);\n",
    "\n",
    "    -- Step 3: Decrease the stock in the Products table for each item ordered\n",
    "    UPDATE Products\n",
    "    SET stock_quantity = stock_quantity - @item.quantity\n",
    "    WHERE product_id = @item.product_id;\n",
    "\n",
    "    -- Check if there are enough stock for the item, if not, rollback the transaction\n",
    "    IF (SELECT stock_quantity FROM Products WHERE product_id = @item.product_id) < 0 THEN\n",
    "        ROLLBACK TRANSACTION;\n",
    "        -- Handle insufficient stock case (e.g., show an error to the user)\n",
    "        RAISE ERROR 'Not enough stock for product ID ' + @item.product_id;\n",
    "        RETURN;\n",
    "    END IF;\n",
    "END FOR;\n",
    "\n",
    "-- Step 4: Commit the transaction if everything is successful\n",
    "COMMIT TRANSACTION;\n"
   ]
  }
 ],
 "metadata": {
  "language_info": {
   "name": "python"
  }
 },
 "nbformat": 4,
 "nbformat_minor": 2
}
